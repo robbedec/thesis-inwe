{
 "cells": [
  {
   "cell_type": "code",
   "execution_count": 7,
   "id": "b8da0f25-5089-410c-9445-54313e64ab28",
   "metadata": {},
   "outputs": [],
   "source": [
    "import os\n",
    "import glob\n",
    "import re\n",
    "import sys\n",
    "import cv2\n",
    "\n",
    "sys.path.append('../mediapipe')\n",
    "from MediapipeKPDetector import MediapipeKPDetector\n",
    "\n",
    "\n",
    "base_path = os.getcwd()\n",
    "data_path = os.path.join(base_path, 'data')\n",
    "\n",
    "image_extensions = ['jpg','jpeg', 'png']\n",
    "\n",
    "images = [file_name for file_name in glob.glob(os.path.join(data_path, '*')) if re.match(r'\\S+\\.(jpg|jpeg|png)', file_name)]\n",
    "\n",
    "for image_path in images:\n",
    "    ground_truth_file = os.path.join(data_path, os.path.splitext(os.path.basename(image_path))[0] + '_ground_truth.txt')\n",
    "    assert os.path.exists(ground_truth_file)\n",
    "    \n",
    "    gt_points = []\n",
    "    \n",
    "    with open(ground_truth_file, 'r') as gt:\n",
    "        read = False\n",
    "        for line in gt:\n",
    "            if line.startswith('# 68'):\n",
    "                read = True\n",
    "            elif read and line.startswith('# }'):\n",
    "                break\n",
    "            elif read:\n",
    "                # Split the string, remove the newline and convert the values to int\n",
    "                gt_points.append(list(map(int, line.rstrip('\\n').split(','))))\n",
    "            \n",
    "    assert len(gt_points) == 68\n",
    "    \n",
    "    # Detect using mediapipe\n",
    "    detector = MediapipeKPDetector(maxFaces=1)\n",
    "    \n",
    "    img = cv2.imread(image_path)\n",
    "    img, faces = detector.findFaceMesh(img, draw_points=False, draw_indices=False, filtered=True)\n",
    "    \n",
    "    assert len(faces[0]) == 51"
   ]
  }
 ],
 "metadata": {
  "kernelspec": {
   "display_name": "Python 3 (ipykernel)",
   "language": "python",
   "name": "python3"
  },
  "language_info": {
   "codemirror_mode": {
    "name": "ipython",
    "version": 3
   },
   "file_extension": ".py",
   "mimetype": "text/x-python",
   "name": "python",
   "nbconvert_exporter": "python",
   "pygments_lexer": "ipython3",
   "version": "3.8.10"
  }
 },
 "nbformat": 4,
 "nbformat_minor": 5
}
